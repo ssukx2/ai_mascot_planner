{
  "nbformat": 4,
  "nbformat_minor": 0,
  "metadata": {
    "colab": {
      "provenance": []
    },
    "kernelspec": {
      "name": "python3",
      "display_name": "Python 3"
    },
    "language_info": {
      "name": "python"
    }
  },
  "cells": [
    {
      "cell_type": "markdown",
      "source": [
        "#구글 드라이브연동"
      ],
      "metadata": {
        "id": "bz7-8UHYDV3h"
      }
    },
    {
      "cell_type": "code",
      "source": [
        "from google.colab import drive\n",
        "drive.mount('/content/drive')"
      ],
      "metadata": {
        "id": "hR6b95jHDYQr"
      },
      "execution_count": null,
      "outputs": []
    },
    {
      "cell_type": "markdown",
      "source": [
        "#api 연결\n"
      ],
      "metadata": {
        "id": "b16EvkSvDbIc"
      }
    },
    {
      "cell_type": "code",
      "source": [
        "import base64\n",
        "import requests\n",
        "from PIL import Image as PI\n",
        "import os\n",
        "from PIL import Image\n",
        "import pandas as pd"
      ],
      "metadata": {
        "id": "FeVnygd6DdNr"
      },
      "execution_count": null,
      "outputs": []
    },
    {
      "cell_type": "code",
      "source": [
        "api_key = \"/////////\""
      ],
      "metadata": {
        "id": "-hVCYcu8DdRn"
      },
      "execution_count": null,
      "outputs": []
    },
    {
      "cell_type": "code",
      "source": [
        "def encode_image(image_path):\n",
        "  with open(image_path, \"rb\") as image_file:\n",
        "    return base64.b64encode(image_file.read()).decode('utf-8')"
      ],
      "metadata": {
        "id": "jMwak8ERDiey"
      },
      "execution_count": null,
      "outputs": []
    },
    {
      "cell_type": "markdown",
      "source": [
        "#캡셔닝 추출"
      ],
      "metadata": {
        "id": "FH4_srBZDugU"
      }
    },
    {
      "cell_type": "code",
      "source": [
        "directory_path = \"//////\"  # 경로 입력\n",
        "# 지원되는 이미지 파일 확장자 목록을 작성\n",
        "image_extensions = ('.jpg', '.jpeg', '.png', '.gif', '.bmp', '.tiff','webp')\n",
        "\n",
        "cap_list1=[]\n",
        "err_list=[]\n",
        "for filename in os.listdir(directory_path):\n",
        "    # 파일 확장자가 이미지 파일 목록에 있는지 확인\n",
        "    image_path = os.path.join(directory_path, filename)\n",
        "\n",
        "    base64_image = encode_image(image_path)\n",
        "\n",
        "    headers = {\n",
        "      \"Content-Type\": \"application/json\",\n",
        "      \"Authorization\": f\"Bearer {api_key}\"\n",
        "    }\n",
        "\n",
        "    payload = {\n",
        "      \"model\": \"gpt-4o\",\n",
        "      \"messages\": [\n",
        "        {\n",
        "          \"role\": \"user\",\n",
        "          \"content\": [\n",
        "            {\n",
        "              \"type\": \"text\",\n",
        "              \"text\": \"Describe this image in 2 parts of details. part 1 : describe the appearnace with 2 sentences. part 2: name 3 values of this image as a mascot of city or corporation without explanations\"\n",
        "            },\n",
        "            {\n",
        "              \"type\": \"image_url\",\n",
        "              \"image_url\": {\n",
        "                \"url\": f\"data:image/jpeg;base64,{base64_image}\"\n",
        "              }\n",
        "            }\n",
        "          ]\n",
        "        }\n",
        "      ],\n",
        "      \"max_tokens\": 300\n",
        "    }\n",
        "\n",
        "    response = requests.post(\"https://api.openai.com/v1/chat/completions\", headers=headers, json=payload)\n",
        "\n",
        "    res = response.json()\n",
        "    if 'choices' in res:\n",
        "        print(f\"{filename} 정상\")\n",
        "        cap_list1.append([filename, res['choices'][0]['message']['content']])\n",
        "    else:\n",
        "        print(f\"{filename}에 대한 오류: {res}\")\n",
        "        err_list.append(filename)\n",
        "\n",
        "\n",
        "caption_data1=pd.DataFrame(\n",
        "      data=cap_list1,\n",
        "      columns=[\"filename\",\"caption\"]\n",
        "  )\n",
        "\n",
        "\n"
      ],
      "metadata": {
        "id": "30ATYt91Duqv"
      },
      "execution_count": null,
      "outputs": []
    },
    {
      "cell_type": "code",
      "source": [],
      "metadata": {
        "id": "7e_N-9QwDuvr"
      },
      "execution_count": null,
      "outputs": []
    }
  ]
}