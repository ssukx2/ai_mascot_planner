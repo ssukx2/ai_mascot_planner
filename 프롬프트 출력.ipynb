{
  "nbformat": 4,
  "nbformat_minor": 0,
  "metadata": {
    "colab": {
      "provenance": []
    },
    "kernelspec": {
      "name": "python3",
      "display_name": "Python 3"
    },
    "language_info": {
      "name": "python"
    }
  },
  "cells": [
    {
      "cell_type": "markdown",
      "source": [
        "#구글 드라이브연동"
      ],
      "metadata": {
        "id": "bz7-8UHYDV3h"
      }
    },
    {
      "cell_type": "code",
      "source": [
        "from google.colab import drive\n",
        "drive.mount('/content/drive')"
      ],
      "metadata": {
        "id": "hR6b95jHDYQr",
        "colab": {
          "base_uri": "https://localhost:8080/"
        },
        "outputId": "cc7e0f38-934b-4385-9e22-ed7ed1d5432d"
      },
      "execution_count": null,
      "outputs": [
        {
          "output_type": "stream",
          "name": "stdout",
          "text": [
            "Mounted at /content/drive\n"
          ]
        }
      ]
    },
    {
      "cell_type": "markdown",
      "source": [
        "#api 연결\n"
      ],
      "metadata": {
        "id": "b16EvkSvDbIc"
      }
    },
    {
      "cell_type": "code",
      "source": [
        "import base64\n",
        "import requests\n",
        "from PIL import Image as PI\n",
        "import os\n",
        "from PIL import Image\n",
        "import pandas as pd"
      ],
      "metadata": {
        "id": "FeVnygd6DdNr"
      },
      "execution_count": null,
      "outputs": []
    },
    {
      "cell_type": "code",
      "source": [
        "api_key = \"////////\""
      ],
      "metadata": {
        "id": "-hVCYcu8DdRn"
      },
      "execution_count": null,
      "outputs": []
    },
    {
      "cell_type": "code",
      "source": [
        "def encode_image(image_path):\n",
        "  with open(image_path, \"rb\") as image_file:\n",
        "    return base64.b64encode(image_file.read()).decode('utf-8')"
      ],
      "metadata": {
        "id": "jMwak8ERDiey"
      },
      "execution_count": null,
      "outputs": []
    },
    {
      "cell_type": "markdown",
      "source": [
        "#캡셔닝 추출"
      ],
      "metadata": {
        "id": "FH4_srBZDugU"
      }
    },
    {
      "cell_type": "code",
      "source": [
        "directory_path = \"//////\"  #\n",
        "\n",
        "# 지원되는 이미지 파일 확장자 목록을 작성\n",
        "image_extensions = ('.jpg', '.jpeg', '.png', '.gif', '.bmp', '.tiff','webp')\n",
        "\n",
        "cap_list1=[]\n",
        "err_list=[]\n",
        "for filename in os.listdir(directory_path):\n",
        "    # 파일 확장자가 이미지 파일 목록에 있는지 확인\n",
        "    image_path = os.path.join(directory_path, filename)\n",
        "\n",
        "    base64_image = encode_image(image_path)\n",
        "\n",
        "    headers = {\n",
        "      \"Content-Type\": \"application/json\",\n",
        "      \"Authorization\": f\"Bearer {api_key}\"\n",
        "    }\n",
        "\n",
        "    payload = {\n",
        "      \"model\": \"gpt-4o\",\n",
        "      \"messages\": [\n",
        "        {\n",
        "          \"role\": \"user\",\n",
        "          \"content\": [\n",
        "            {\n",
        "              \"type\": \"text\",\n",
        "              \"text\": \"Describe this image in 2 parts of details. part 1 : describe the appearnace with 2 sentences. part 2: name 3 values of this image as a mascot of city or corporation without explanations\"\n",
        "            },\n",
        "            {\n",
        "              \"type\": \"image_url\",\n",
        "              \"image_url\": {\n",
        "                \"url\": f\"data:image/jpeg;base64,{base64_image}\"\n",
        "              }\n",
        "            }\n",
        "          ]\n",
        "        }\n",
        "      ],\n",
        "      \"max_tokens\": 300\n",
        "    }\n",
        "\n",
        "    response = requests.post(\"https://api.openai.com/v1/chat/completions\", headers=headers, json=payload)\n",
        "\n",
        "    res = response.json()\n",
        "    if 'choices' in res:\n",
        "        print(f\"{filename} 정상\")\n",
        "        cap_list1.append([filename, res['choices'][0]['message']['content']])\n",
        "    else:\n",
        "        print(f\"{filename}에 대한 오류: {res}\")\n",
        "        err_list.append(filename)\n",
        "\n",
        "\n",
        "caption_data1=pd.DataFrame(\n",
        "      data=cap_list1,\n",
        "      columns=[\"filename\",\"caption\"]\n",
        "  )\n",
        "\n",
        "caption_data1.to_csv(\"///.csv\",index=False)\n"
      ],
      "metadata": {
        "id": "30ATYt91Duqv",
        "colab": {
          "base_uri": "https://localhost:8080/"
        },
        "outputId": "53377b1a-979a-4be8-d0de-87a5c3549663"
      },
      "execution_count": null,
      "outputs": [
        {
          "output_type": "stream",
          "name": "stdout",
          "text": [
            "KakaoTalk_Photo_2024-06-27-16-04-35-1.png 정상\n"
          ]
        }
      ]
    },
    {
      "cell_type": "markdown",
      "source": [
        "##스토리 추출\n"
      ],
      "metadata": {
        "id": "XpkqNC00TySH"
      }
    },
    {
      "cell_type": "code",
      "source": [
        "directory_path = \"//////\"  # 여기에 디렉토리의 올바른 경로를 입력\n",
        "\n",
        "# 지원되는 이미지 파일 확장자 목록을 작성\n",
        "image_extensions = ('.jpg', '.jpeg', '.png', '.gif', '.bmp', '.tiff','webp')\n",
        "\n",
        "cap_list1=[]\n",
        "err_list=[]\n",
        "for filename in os.listdir(directory_path):\n",
        "    # 파일 확장자가 이미지 파일 목록에 있는지 확인\n",
        "    image_path = os.path.join(directory_path, filename)\n",
        "\n",
        "    base64_image = encode_image(image_path)\n",
        "\n",
        "    headers = {\n",
        "      \"Content-Type\": \"application/json\",\n",
        "      \"Authorization\": f\"Bearer {api_key}\"\n",
        "    }\n",
        "\n",
        "    payload = {\n",
        "      \"model\": \"gpt-4o\",\n",
        "      \"messages\": [\n",
        "        {\n",
        "          \"role\": \"user\",\n",
        "          \"content\": [\n",
        "            {\n",
        "              \"type\": \"text\",\n",
        "              \"text\": \"\"\"act as a character master and mascot planner.\n",
        "\n",
        "1. name this character considering the information provided.\n",
        "2. make a short storyline about this mascot within 6 sentences.\n",
        "3. what is its MBTI? and why? (in 2 sentence)\n",
        "\n",
        "make it in in korean.\n",
        "\n",
        "——————information———————\n",
        "\n",
        "Part 1:\n",
        "This image is a cute mascot character. He is an engineer character who wears horn-rimmed glasses and does computer programming. It consists of orange and red colors and has short, chubby limbs.\n",
        "\n",
        "Part 2:\n",
        "\n",
        "practicality\n",
        "educational\n",
        "cooperation\n",
        "\n",
        "Part 3 :\n",
        "This mascot works for 'SK Planet T academy' company, a tech-related educational workplace.\"\"\"\n",
        "            },\n",
        "            {\n",
        "              \"type\": \"image_url\",\n",
        "              \"image_url\": {\n",
        "                \"url\": f\"data:image/jpeg;base64,{base64_image}\"\n",
        "              }\n",
        "            }\n",
        "          ]\n",
        "        }\n",
        "      ],\n",
        "      \"max_tokens\": 300\n",
        "    }\n",
        "\n",
        "    response = requests.post(\"https://api.openai.com/v1/chat/completions\", headers=headers, json=payload)\n",
        "\n",
        "    res = response.json()\n",
        "    if 'choices' in res:\n",
        "        print(f\"{filename} 정상\")\n",
        "        cap_list1.append([filename, res['choices'][0]['message']['content']])\n",
        "    else:\n",
        "        print(f\"{filename}에 대한 오류: {res}\")\n",
        "        err_list.append(filename)\n",
        "\n",
        "\n",
        "caption_data1=pd.DataFrame(\n",
        "      data=cap_list1,\n",
        "      columns=[\"filename\",\"caption\"]\n",
        "  )\n",
        "\n",
        "caption_data1.to_csv(\"/content/story.csv\",index=False)\n"
      ],
      "metadata": {
        "colab": {
          "base_uri": "https://localhost:8080/"
        },
        "id": "NE1JvMG8T0RH",
        "outputId": "06c5f50d-9642-4956-dfa1-a80589f87ca3"
      },
      "execution_count": null,
      "outputs": [
        {
          "output_type": "stream",
          "name": "stdout",
          "text": [
            "KakaoTalk_Photo_2024-06-19-16-07-43.png 정상\n"
          ]
        }
      ]
    },
    {
      "cell_type": "markdown",
      "source": [
        "##데이터셋 뽑기\n"
      ],
      "metadata": {
        "id": "-MyvPF2VfeMH"
      }
    },
    {
      "cell_type": "code",
      "source": [
        "!pip install datasets"
      ],
      "metadata": {
        "id": "x_6U_Ezifg0B"
      },
      "execution_count": null,
      "outputs": []
    },
    {
      "cell_type": "code",
      "source": [
        "import pandas as pd\n",
        "from PIL import Image\n",
        "from datasets import Dataset, Features, Value, Image\n",
        "from datasets import DatasetDict\n",
        "from datasets import load_from_disk"
      ],
      "metadata": {
        "id": "7e_N-9QwDuvr"
      },
      "execution_count": null,
      "outputs": []
    },
    {
      "cell_type": "code",
      "source": [
        "\n",
        "caption_data1['filename']= \"///////\"+ df['filename']\n",
        "\n",
        "caption_data1.columns = ['image', 'text']"
      ],
      "metadata": {
        "id": "e4OgHkWufrg8"
      },
      "execution_count": null,
      "outputs": []
    },
    {
      "cell_type": "code",
      "source": [
        "caption_data1"
      ],
      "metadata": {
        "id": "DYiSimvufrjS"
      },
      "execution_count": null,
      "outputs": []
    },
    {
      "cell_type": "code",
      "source": [
        "features = Features({\n",
        "    'image': Image(),\n",
        "    'text': Value('string')\n",
        "})"
      ],
      "metadata": {
        "id": "scs6OSlgfrle"
      },
      "execution_count": null,
      "outputs": []
    },
    {
      "cell_type": "code",
      "source": [
        "custom_dataset = Dataset.from_pandas(caption_data1, features=features)"
      ],
      "metadata": {
        "id": "oOeRoT70frp0"
      },
      "execution_count": null,
      "outputs": []
    },
    {
      "cell_type": "code",
      "source": [
        "custom_dataset"
      ],
      "metadata": {
        "id": "KWXsp3DzgLOS"
      },
      "execution_count": null,
      "outputs": []
    },
    {
      "cell_type": "markdown",
      "source": [
        "##데이터셋 저장, 불러오기"
      ],
      "metadata": {
        "id": "7MjL6DiAgRRQ"
      }
    },
    {
      "cell_type": "code",
      "source": [
        "custom_dataset.save_to_disk('/content/sample_data/PK_dataset')"
      ],
      "metadata": {
        "id": "TposQ_2ngNq_"
      },
      "execution_count": null,
      "outputs": []
    },
    {
      "cell_type": "code",
      "source": [
        "custom_dataset_loaded = load_from_disk(\"/content/folder\")"
      ],
      "metadata": {
        "id": "GnJ-p1dsgNzF"
      },
      "execution_count": null,
      "outputs": []
    },
    {
      "cell_type": "code",
      "source": [
        "custom_dataset_loaded"
      ],
      "metadata": {
        "id": "1qfkLSjWgN14"
      },
      "execution_count": null,
      "outputs": []
    }
  ]
}